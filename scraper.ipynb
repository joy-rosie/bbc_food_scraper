{
 "cells": [
  {
   "cell_type": "code",
   "execution_count": 75,
   "metadata": {},
   "outputs": [],
   "source": [
    "import requests\n",
    "from bs4 import BeautifulSoup\n",
    "import string\n",
    "from tqdm.notebook import tqdm\n",
    "import pandas as pd"
   ]
  },
  {
   "cell_type": "code",
   "execution_count": 87,
   "metadata": {},
   "outputs": [],
   "source": [
    "headers = {'User-Agent': 'Mozilla/5.0 (Macintosh; Intel Mac OS X 10_10_1) AppleWebKit/537.36 (KHTML, like Gecko) Chrome/39.0.2171.95 Safari/537.36'}\n",
    "base_url = 'https://www.bbcgoodfood.com'\n",
    "\n",
    "a_to_z = string.ascii_letters[:26]"
   ]
  },
  {
   "cell_type": "code",
   "execution_count": null,
   "metadata": {},
   "outputs": [
    {
     "data": {
      "application/vnd.jupyter.widget-view+json": {
       "model_id": "4b610e827c7d4edbb1c3deeb9e442b46",
       "version_major": 2,
       "version_minor": 0
      },
      "text/plain": [
       "HBox(children=(FloatProgress(value=0.0, max=26.0), HTML(value='')))"
      ]
     },
     "metadata": {},
     "output_type": "display_data"
    }
   ],
   "source": [
    "all_data = []\n",
    "for letter in tqdm(a_to_z):\n",
    "    response = requests.get(f'{base_url}/glossary/{letter}', headers=headers)\n",
    "    soup = BeautifulSoup(response.text)\n",
    "    food_list = soup.findAll('div', class_='view-content')[0].findAll('li')\n",
    "    all_data.extend([\n",
    "        {\n",
    "            'name': item.select('h3')[0].contents[0], \n",
    "            'bbc_good_food_url': f'{base_url}{item.select(\"a\")[0][\"href\"]}',\n",
    "        }\n",
    "        for item in food_list\n",
    "    ])"
   ]
  },
  {
   "cell_type": "code",
   "execution_count": 86,
   "metadata": {},
   "outputs": [
    {
     "data": {
      "text/html": [
       "<div>\n",
       "<style scoped>\n",
       "    .dataframe tbody tr th:only-of-type {\n",
       "        vertical-align: middle;\n",
       "    }\n",
       "\n",
       "    .dataframe tbody tr th {\n",
       "        vertical-align: top;\n",
       "    }\n",
       "\n",
       "    .dataframe thead th {\n",
       "        text-align: right;\n",
       "    }\n",
       "</style>\n",
       "<table border=\"1\" class=\"dataframe\">\n",
       "  <thead>\n",
       "    <tr style=\"text-align: right;\">\n",
       "      <th></th>\n",
       "      <th>name</th>\n",
       "      <th>bbc_good_food_url</th>\n",
       "    </tr>\n",
       "  </thead>\n",
       "  <tbody>\n",
       "    <tr>\n",
       "      <th>0</th>\n",
       "      <td>Aduki bean</td>\n",
       "      <td>https://www.bbcgoodfood.com//glossary/aduki-bean</td>\n",
       "    </tr>\n",
       "    <tr>\n",
       "      <th>1</th>\n",
       "      <td>Agar-Agar</td>\n",
       "      <td>https://www.bbcgoodfood.com//glossary/agar-agar</td>\n",
       "    </tr>\n",
       "    <tr>\n",
       "      <th>2</th>\n",
       "      <td>Agave syrup</td>\n",
       "      <td>https://www.bbcgoodfood.com//glossary/agave-syrup</td>\n",
       "    </tr>\n",
       "    <tr>\n",
       "      <th>3</th>\n",
       "      <td>Albariño</td>\n",
       "      <td>https://www.bbcgoodfood.com//glossary/albari%C...</td>\n",
       "    </tr>\n",
       "    <tr>\n",
       "      <th>4</th>\n",
       "      <td>Almond</td>\n",
       "      <td>https://www.bbcgoodfood.com//glossary/almond</td>\n",
       "    </tr>\n",
       "    <tr>\n",
       "      <th>...</th>\n",
       "      <td>...</td>\n",
       "      <td>...</td>\n",
       "    </tr>\n",
       "    <tr>\n",
       "      <th>793</th>\n",
       "      <td>Yogurt</td>\n",
       "      <td>https://www.bbcgoodfood.com/glossary/yogurt</td>\n",
       "    </tr>\n",
       "    <tr>\n",
       "      <th>794</th>\n",
       "      <td>Yuzu</td>\n",
       "      <td>https://www.bbcgoodfood.com/glossary/yuzu</td>\n",
       "    </tr>\n",
       "    <tr>\n",
       "      <th>795</th>\n",
       "      <td>Za’atar</td>\n",
       "      <td>https://www.bbcgoodfood.com/glossary/zaatar</td>\n",
       "    </tr>\n",
       "    <tr>\n",
       "      <th>796</th>\n",
       "      <td>Zest</td>\n",
       "      <td>https://www.bbcgoodfood.com/glossary/zest</td>\n",
       "    </tr>\n",
       "    <tr>\n",
       "      <th>797</th>\n",
       "      <td>Zinfandel</td>\n",
       "      <td>https://www.bbcgoodfood.com/glossary/zinfandel</td>\n",
       "    </tr>\n",
       "  </tbody>\n",
       "</table>\n",
       "<p>798 rows × 2 columns</p>\n",
       "</div>"
      ],
      "text/plain": [
       "            name                                  bbc_good_food_url\n",
       "0     Aduki bean   https://www.bbcgoodfood.com//glossary/aduki-bean\n",
       "1      Agar-Agar    https://www.bbcgoodfood.com//glossary/agar-agar\n",
       "2    Agave syrup  https://www.bbcgoodfood.com//glossary/agave-syrup\n",
       "3       Albariño  https://www.bbcgoodfood.com//glossary/albari%C...\n",
       "4         Almond       https://www.bbcgoodfood.com//glossary/almond\n",
       "..           ...                                                ...\n",
       "793       Yogurt        https://www.bbcgoodfood.com/glossary/yogurt\n",
       "794         Yuzu          https://www.bbcgoodfood.com/glossary/yuzu\n",
       "795      Za’atar        https://www.bbcgoodfood.com/glossary/zaatar\n",
       "796         Zest          https://www.bbcgoodfood.com/glossary/zest\n",
       "797    Zinfandel     https://www.bbcgoodfood.com/glossary/zinfandel\n",
       "\n",
       "[798 rows x 2 columns]"
      ]
     },
     "execution_count": 86,
     "metadata": {},
     "output_type": "execute_result"
    }
   ],
   "source": [
    "df = pd.DataFrame(all_data)\n",
    "df"
   ]
  },
  {
   "cell_type": "code",
   "execution_count": null,
   "metadata": {},
   "outputs": [],
   "source": []
  }
 ],
 "metadata": {
  "kernelspec": {
   "display_name": "Python 3",
   "language": "python",
   "name": "python3"
  },
  "language_info": {
   "codemirror_mode": {
    "name": "ipython",
    "version": 3
   },
   "file_extension": ".py",
   "mimetype": "text/x-python",
   "name": "python",
   "nbconvert_exporter": "python",
   "pygments_lexer": "ipython3",
   "version": "3.8.3"
  }
 },
 "nbformat": 4,
 "nbformat_minor": 4
}
